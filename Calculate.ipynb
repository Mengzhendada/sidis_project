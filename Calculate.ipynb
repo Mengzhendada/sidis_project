{
 "cells": [
  {
   "cell_type": "code",
   "execution_count": 1,
   "id": "4d3ad2d0-0520-4a05-bce9-aaaa52a4d972",
   "metadata": {},
   "outputs": [],
   "source": [
    "import numpy as np\n",
    "mP = 0.938272"
   ]
  },
  {
   "cell_type": "code",
   "execution_count": 2,
   "id": "f9e57fb7-fd0b-41a1-be28-24ea24506139",
   "metadata": {},
   "outputs": [],
   "source": [
    "def Get_y_from_Q2(Ebeam,x,Q2):\n",
    "    s=2*mP*Ebeam\n",
    "    y = Q2/x/s\n",
    "    return y"
   ]
  },
  {
   "cell_type": "code",
   "execution_count": 3,
   "id": "13fcc04e-3c55-47ae-8c91-149786a0bd6b",
   "metadata": {},
   "outputs": [],
   "source": [
    "def Get_Q2_from_y(Ebeam,x,y):\n",
    "    s=2*mP*Ebeam\n",
    "    Q2 = x*s*y\n",
    "    return Q2"
   ]
  },
  {
   "cell_type": "code",
   "execution_count": 4,
   "id": "1f74e02e-4ce3-40d9-8211-fb8cfe023c99",
   "metadata": {},
   "outputs": [],
   "source": [
    "def Get_s_from_Eb(Ebeam):\n",
    "    s=2*mP*Ebeam\n",
    "    return s\n",
    "def Get_Eb_from_s(s):\n",
    "    Eb = (s)/2/mP\n",
    "    return Eb"
   ]
  },
  {
   "cell_type": "code",
   "execution_count": 5,
   "id": "aefcaf2b-cd04-4a41-b159-cb85a04a6415",
   "metadata": {},
   "outputs": [
    {
     "name": "stdout",
     "output_type": "stream",
     "text": [
      "0.6635347062746186\n"
     ]
    }
   ],
   "source": [
    "y1 = Get_y_from_Q2(10.65,0.138,1.83)\n",
    "print(y1)"
   ]
  },
  {
   "cell_type": "code",
   "execution_count": 6,
   "id": "9c5eb3ef-7562-4416-b8e3-669a982c7df0",
   "metadata": {},
   "outputs": [
    {
     "name": "stdout",
     "output_type": "stream",
     "text": [
      "0.6939811047749039\n"
     ]
    }
   ],
   "source": [
    "y2=Get_y_from_Q2(10.65,0.199,2.76)\n",
    "print(y2)"
   ]
  },
  {
   "cell_type": "code",
   "execution_count": 7,
   "id": "677d7c43-e445-456a-8ec3-72306062278c",
   "metadata": {},
   "outputs": [
    {
     "name": "stdout",
     "output_type": "stream",
     "text": [
      "0.6574210084903486\n"
     ]
    }
   ],
   "source": [
    "y3=Get_y_from_Q2(10.65,0.274,3.6)\n",
    "print(y3)"
   ]
  },
  {
   "cell_type": "code",
   "execution_count": 8,
   "id": "c5f2a624-2fc9-4cc2-bfcc-963c3007b7e3",
   "metadata": {},
   "outputs": [
    {
     "name": "stdout",
     "output_type": "stream",
     "text": [
      "0.5965580289600001\n"
     ]
    }
   ],
   "source": [
    "Q21 = Get_Q2_from_y(10.65,0.199,0.15)\n",
    "print(Q21)"
   ]
  },
  {
   "cell_type": "code",
   "execution_count": 9,
   "id": "e4e957d5-d598-4314-a987-65b9930d9ef6",
   "metadata": {},
   "outputs": [
    {
     "name": "stdout",
     "output_type": "stream",
     "text": [
      "0.405333504\n"
     ]
    }
   ],
   "source": [
    "Q22=Get_Q2_from_y(12,0.12,0.15)\n",
    "print(Q22)"
   ]
  },
  {
   "cell_type": "code",
   "execution_count": 10,
   "id": "1c533161-6d96-405c-a04e-271a2a7ddbba",
   "metadata": {},
   "outputs": [
    {
     "name": "stdout",
     "output_type": "stream",
     "text": [
      "23.398882345984\n"
     ]
    }
   ],
   "source": [
    "s=mP**2+2*mP*12\n",
    "print(s)"
   ]
  },
  {
   "cell_type": "code",
   "execution_count": 11,
   "id": "8bdc497b-3227-4fec-9ad4-cbb4723ca8c7",
   "metadata": {},
   "outputs": [
    {
     "data": {
      "text/plain": [
       "0.017992312358126674"
      ]
     },
     "execution_count": 11,
     "metadata": {},
     "output_type": "execute_result"
    }
   ],
   "source": [
    "0.421/s"
   ]
  },
  {
   "cell_type": "code",
   "execution_count": 12,
   "id": "272ef6f4-668b-43e5-8d6e-25f7a5a3b897",
   "metadata": {},
   "outputs": [
    {
     "name": "stdout",
     "output_type": "stream",
     "text": [
      "0.02116742630367844\n"
     ]
    }
   ],
   "source": [
    "X=(1-0.15)*s\n",
    "print(0.421/X)"
   ]
  },
  {
   "cell_type": "code",
   "execution_count": 13,
   "id": "2017fe84-8fb9-4b82-a639-483bb3b653f9",
   "metadata": {},
   "outputs": [
    {
     "data": {
      "text/plain": [
       "87.2672658"
      ]
     },
     "execution_count": 13,
     "metadata": {},
     "output_type": "execute_result"
    }
   ],
   "source": [
    "389400*0.000224107"
   ]
  },
  {
   "cell_type": "code",
   "execution_count": 14,
   "id": "c6363ca4-fab4-4162-9f53-27ee4bf55b18",
   "metadata": {},
   "outputs": [
    {
     "name": "stdout",
     "output_type": "stream",
     "text": [
      "0.15656023467293304\n"
     ]
    }
   ],
   "source": [
    "y_sasha = Get_y_from_Q2(10.65,0.199,0.6226484334)\n",
    "print(y_sasha)"
   ]
  },
  {
   "cell_type": "code",
   "execution_count": 15,
   "id": "2f192aaf-32cf-4919-b40d-c908e97b0e5f",
   "metadata": {},
   "outputs": [
    {
     "name": "stdout",
     "output_type": "stream",
     "text": [
      "4.784262104739694\n"
     ]
    }
   ],
   "source": [
    "a1r = 5.9250\n",
    "a6r = -1.4290\n",
    "q2 = 0.3\n",
    "a3r = -4.968\n",
    "a4r = 3.2040\n",
    "t = -0.331226747\n",
    "mpi = 0.1395675\n",
    "w=1.24\n",
    "mp = 0.938272\n",
    "\n",
    "f1r = a1r+(2*a6r*q2-(a3r-a4r)*(q2+t-mpi**2))/2/(w-mp)+a4r*(w-mp)\n",
    "print(f1r)"
   ]
  },
  {
   "cell_type": "code",
   "execution_count": 18,
   "id": "b8a01ab7-d182-429e-8cf8-c46dc2a3c963",
   "metadata": {},
   "outputs": [
    {
     "name": "stdout",
     "output_type": "stream",
     "text": [
      "8.000202479616\n",
      "4.745369111038676\n"
     ]
    }
   ],
   "source": [
    "jlab2_Q2 = Get_Q2_from_y(12,0.48,0.74015)\n",
    "print(jlab2_Q2)\n",
    "jlab2_s = Get_s_from_Eb(12)\n",
    "print(np.sqrt(jlab2_s))"
   ]
  },
  {
   "cell_type": "code",
   "execution_count": 23,
   "id": "b7052637-8e0c-4263-b043-492885c4e324",
   "metadata": {},
   "outputs": [
    {
     "name": "stdout",
     "output_type": "stream",
     "text": [
      "1.3877461262121573\n",
      "24.000002079567544\n"
     ]
    }
   ],
   "source": [
    "jlab3_y = Get_y_from_Q2(12,0.48,15)\n",
    "print(jlab3_y)\n",
    "jlab3_Eb = Get_Eb_from_s((6.710965646045284)**2)\n",
    "print(jlab3_Eb)"
   ]
  },
  {
   "cell_type": "code",
   "execution_count": 25,
   "id": "1440c292-f797-4411-9f4a-c16b41271ee8",
   "metadata": {},
   "outputs": [
    {
     "name": "stdout",
     "output_type": "stream",
     "text": [
      "10444.732444323181\n"
     ]
    }
   ],
   "source": [
    "eic1_Eb = Get_Eb_from_s(140**2)\n",
    "print(eic1_Eb)"
   ]
  },
  {
   "cell_type": "code",
   "execution_count": 42,
   "id": "b98c283e-f89a-450e-8203-83319ffaf19e",
   "metadata": {},
   "outputs": [],
   "source": [
    "def SHMS_t(momentum):\n",
    "    length=20.1\n",
    "    m_K = 0.938\n",
    "    #m_K = 0.494\n",
    "    c_light= 2.99792458e8\n",
    "    t_K=length*np.sqrt(momentum**2+m_K**2)*1e9/c_light/momentum\n",
    "    m_pion = 0.138\n",
    "    t_pion=length*np.sqrt(momentum**2+m_pion**2)*1e9/c_light/momentum\n",
    "    return t_K-t_pion+1"
   ]
  },
  {
   "cell_type": "code",
   "execution_count": 44,
   "id": "e0473ab1-aaf3-4c00-b341-c02c5d2ede6c",
   "metadata": {},
   "outputs": [
    {
     "name": "stdout",
     "output_type": "stream",
     "text": [
      "3.3139267180311407\n"
     ]
    }
   ],
   "source": [
    "SHMS_t_kaon1=SHMS_t(3.5)\n",
    "print(SHMS_t_kaon1)"
   ]
  },
  {
   "cell_type": "code",
   "execution_count": null,
   "id": "6b8eaab6-9b5b-45d3-a523-f4f41737173a",
   "metadata": {},
   "outputs": [],
   "source": []
  }
 ],
 "metadata": {
  "kernelspec": {
   "display_name": "Python 3 (ipykernel)",
   "language": "python",
   "name": "python3"
  },
  "language_info": {
   "codemirror_mode": {
    "name": "ipython",
    "version": 3
   },
   "file_extension": ".py",
   "mimetype": "text/x-python",
   "name": "python",
   "nbconvert_exporter": "python",
   "pygments_lexer": "ipython3",
   "version": "3.10.10"
  }
 },
 "nbformat": 4,
 "nbformat_minor": 5
}
